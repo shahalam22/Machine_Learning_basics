{
 "cells": [
  {
   "cell_type": "code",
   "execution_count": null,
   "id": "ab13e628-480d-4492-ab80-0cc29b1e8eb7",
   "metadata": {},
   "outputs": [],
   "source": [
    "import pandas as pd\n",
    "import requests\n",
    "from bs4 import BeautifulSoup\n",
    "\n",
    "url = \"https://www.ambitionbox.com/list-of-companies?page=1\"\n",
    "headers = {'User-Agent': 'Mozilla/5.0 (Windows NT 10.0; Win64; x64) AppleWebKit/537.36 (KHTML, like Gecko) Chrome/127.0.0.0 Safari/537.36 Edg/127.0.0.0'}\n",
    "req = requests.get(url, headers = headers)\n",
    "\n",
    "soup=BeautifulSoup(req, 'lxml')\n",
    "\n",
    "print(soup.prettify())\n",
    "\n",
    "# soup.find_all('h1')[0]\n",
    "# soup.find_all('h1')[0].text\n",
    "\n",
    "company=soup.find_all('div', class_='company-content-wrapper')\n",
    "\n",
    "name=[]\n",
    "rating=[]\n",
    "reviews=[]\n",
    "ctype=[]\n",
    "hq=[]\n",
    "old=[]\n",
    "employees=[]\n",
    "\n",
    "for i in company:\n",
    "    name.append(i.find('h2').text.strip())\n",
    "    rating.append(i.find('p', class_='rating').text.strip())\n",
    "    reviews.append(i.find('a', class_='review-count').text.strip())\n",
    "    ctype.append(i.find_all('p', class_='infoEntity')[0].text.strip())\n",
    "    hq.append(i.find_all('p', class_='infoEntity')[1].text.strip())\n",
    "    old.append(i.find_all('p', class_='infoEntity')[2].text.strip())\n",
    "    employees.append(i.find_all('p', class_='infoEntity')[3].text.strip())\n",
    "\n",
    "d={'name':name, 'rating':rating, 'reviews':reviews, 'type':ctype, 'hq':hq, 'old':old, 'employees':employees}\n",
    "\n",
    "df=pd.DataFrame(d)"
   ]
  },
  {
   "cell_type": "code",
   "execution_count": null,
   "id": "ed3959ff-6c04-47fd-bc53-3d5d7a379562",
   "metadata": {},
   "outputs": [],
   "source": []
  }
 ],
 "metadata": {
  "kernelspec": {
   "display_name": "Python 3 (ipykernel)",
   "language": "python",
   "name": "python3"
  },
  "language_info": {
   "codemirror_mode": {
    "name": "ipython",
    "version": 3
   },
   "file_extension": ".py",
   "mimetype": "text/x-python",
   "name": "python",
   "nbconvert_exporter": "python",
   "pygments_lexer": "ipython3",
   "version": "3.12.4"
  }
 },
 "nbformat": 4,
 "nbformat_minor": 5
}
