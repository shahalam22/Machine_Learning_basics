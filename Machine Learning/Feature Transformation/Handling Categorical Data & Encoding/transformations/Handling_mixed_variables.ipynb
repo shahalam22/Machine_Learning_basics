{
 "cells": [
  {
   "cell_type": "code",
   "execution_count": 1,
   "id": "63b28fd4-d351-4736-86cf-54e7b18e0859",
   "metadata": {},
   "outputs": [],
   "source": [
    "import numpy as np\n",
    "import pandas as pd"
   ]
  },
  {
   "cell_type": "code",
   "execution_count": 14,
   "id": "6d245406-4ecf-4cef-8515-fbd597b345af",
   "metadata": {},
   "outputs": [],
   "source": [
    "df = pd.read_csv('titanic.csv',usecols=['Cabin','Ticket','SibSp','Parch','Survived'])"
   ]
  },
  {
   "cell_type": "code",
   "execution_count": 15,
   "id": "cfe4a196-5ca8-4b84-9436-e8d72e0901b4",
   "metadata": {},
   "outputs": [
    {
     "data": {
      "text/html": [
       "<div>\n",
       "<style scoped>\n",
       "    .dataframe tbody tr th:only-of-type {\n",
       "        vertical-align: middle;\n",
       "    }\n",
       "\n",
       "    .dataframe tbody tr th {\n",
       "        vertical-align: top;\n",
       "    }\n",
       "\n",
       "    .dataframe thead th {\n",
       "        text-align: right;\n",
       "    }\n",
       "</style>\n",
       "<table border=\"1\" class=\"dataframe\">\n",
       "  <thead>\n",
       "    <tr style=\"text-align: right;\">\n",
       "      <th></th>\n",
       "      <th>Survived</th>\n",
       "      <th>Ticket</th>\n",
       "      <th>Cabin</th>\n",
       "      <th>number</th>\n",
       "    </tr>\n",
       "  </thead>\n",
       "  <tbody>\n",
       "    <tr>\n",
       "      <th>0</th>\n",
       "      <td>0</td>\n",
       "      <td>330911</td>\n",
       "      <td>NaN</td>\n",
       "      <td>0</td>\n",
       "    </tr>\n",
       "    <tr>\n",
       "      <th>1</th>\n",
       "      <td>1</td>\n",
       "      <td>363272</td>\n",
       "      <td>NaN</td>\n",
       "      <td>1</td>\n",
       "    </tr>\n",
       "    <tr>\n",
       "      <th>2</th>\n",
       "      <td>0</td>\n",
       "      <td>240276</td>\n",
       "      <td>NaN</td>\n",
       "      <td>0</td>\n",
       "    </tr>\n",
       "    <tr>\n",
       "      <th>3</th>\n",
       "      <td>0</td>\n",
       "      <td>315154</td>\n",
       "      <td>NaN</td>\n",
       "      <td>0</td>\n",
       "    </tr>\n",
       "    <tr>\n",
       "      <th>4</th>\n",
       "      <td>1</td>\n",
       "      <td>3101298</td>\n",
       "      <td>NaN</td>\n",
       "      <td>2</td>\n",
       "    </tr>\n",
       "  </tbody>\n",
       "</table>\n",
       "</div>"
      ],
      "text/plain": [
       "   Survived   Ticket Cabin  number\n",
       "0         0   330911   NaN       0\n",
       "1         1   363272   NaN       1\n",
       "2         0   240276   NaN       0\n",
       "3         0   315154   NaN       0\n",
       "4         1  3101298   NaN       2"
      ]
     },
     "execution_count": 15,
     "metadata": {},
     "output_type": "execute_result"
    }
   ],
   "source": [
    "df['number'] = df['SibSp'] + df['Parch']\n",
    "df.drop(columns=['SibSp','Parch'],inplace=True)\n",
    "df.head()"
   ]
  },
  {
   "cell_type": "code",
   "execution_count": 16,
   "id": "3e803126-6573-43d3-8b6f-d007c37dd92d",
   "metadata": {},
   "outputs": [
    {
     "data": {
      "text/plain": [
       "array([ 0,  1,  2,  4,  3,  5,  7,  6, 10], dtype=int64)"
      ]
     },
     "execution_count": 16,
     "metadata": {},
     "output_type": "execute_result"
    }
   ],
   "source": [
    "df['number'].unique()"
   ]
  },
  {
   "cell_type": "code",
   "execution_count": 17,
   "id": "92bd4404-391a-4ffb-b7e4-8240f0ac0b8d",
   "metadata": {},
   "outputs": [
    {
     "data": {
      "text/plain": [
       "Text(0.5, 1.0, 'Passengers travelling with')"
      ]
     },
     "execution_count": 17,
     "metadata": {},
     "output_type": "execute_result"
    },
    {
     "data": {
      "image/png": "[encoded data removed]",
      "text/plain": [
       "<Figure size 640x480 with 1 Axes>"
      ]
     },
     "metadata": {},
     "output_type": "display_data"
    }
   ],
   "source": [
    "fig = df['number'].value_counts().plot.bar()\n",
    "fig.set_title('Passengers travelling with')"
   ]
  },
  {
   "cell_type": "code",
   "execution_count": 18,
   "id": "857a6497-788f-44d3-ac61-0199618033b3",
   "metadata": {},
   "outputs": [],
   "source": [
    "# extract numerical part\n",
    "df['number_numerical'] = pd.to_numeric(df[\"number\"],errors='coerce',downcast='integer')\n",
    "\n",
    "# extract categorical part\n",
    "df['number_categorical'] =np.where(df['number_numerical'].isnull(),df['number'],np.nan)"
   ]
  },
  {
   "cell_type": "code",
   "execution_count": 19,
   "id": "15c2488c-81c6-4d6f-a29c-461f91da9985",
   "metadata": {},
   "outputs": [
    {
     "data": {
      "text/html": [
       "<div>\n",
       "<style scoped>\n",
       "    .dataframe tbody tr th:only-of-type {\n",
       "        vertical-align: middle;\n",
       "    }\n",
       "\n",
       "    .dataframe tbody tr th {\n",
       "        vertical-align: top;\n",
       "    }\n",
       "\n",
       "    .dataframe thead th {\n",
       "        text-align: right;\n",
       "    }\n",
       "</style>\n",
       "<table border=\"1\" class=\"dataframe\">\n",
       "  <thead>\n",
       "    <tr style=\"text-align: right;\">\n",
       "      <th></th>\n",
       "      <th>Survived</th>\n",
       "      <th>Ticket</th>\n",
       "      <th>Cabin</th>\n",
       "      <th>number</th>\n",
       "      <th>number_numerical</th>\n",
       "      <th>number_categorical</th>\n",
       "    </tr>\n",
       "  </thead>\n",
       "  <tbody>\n",
       "    <tr>\n",
       "      <th>0</th>\n",
       "      <td>0</td>\n",
       "      <td>330911</td>\n",
       "      <td>NaN</td>\n",
       "      <td>0</td>\n",
       "      <td>0</td>\n",
       "      <td>NaN</td>\n",
       "    </tr>\n",
       "    <tr>\n",
       "      <th>1</th>\n",
       "      <td>1</td>\n",
       "      <td>363272</td>\n",
       "      <td>NaN</td>\n",
       "      <td>1</td>\n",
       "      <td>1</td>\n",
       "      <td>NaN</td>\n",
       "    </tr>\n",
       "    <tr>\n",
       "      <th>2</th>\n",
       "      <td>0</td>\n",
       "      <td>240276</td>\n",
       "      <td>NaN</td>\n",
       "      <td>0</td>\n",
       "      <td>0</td>\n",
       "      <td>NaN</td>\n",
       "    </tr>\n",
       "    <tr>\n",
       "      <th>3</th>\n",
       "      <td>0</td>\n",
       "      <td>315154</td>\n",
       "      <td>NaN</td>\n",
       "      <td>0</td>\n",
       "      <td>0</td>\n",
       "      <td>NaN</td>\n",
       "    </tr>\n",
       "    <tr>\n",
       "      <th>4</th>\n",
       "      <td>1</td>\n",
       "      <td>3101298</td>\n",
       "      <td>NaN</td>\n",
       "      <td>2</td>\n",
       "      <td>2</td>\n",
       "      <td>NaN</td>\n",
       "    </tr>\n",
       "  </tbody>\n",
       "</table>\n",
       "</div>"
      ],
      "text/plain": [
       "   Survived   Ticket Cabin  number  number_numerical  number_categorical\n",
       "0         0   330911   NaN       0                 0                 NaN\n",
       "1         1   363272   NaN       1                 1                 NaN\n",
       "2         0   240276   NaN       0                 0                 NaN\n",
       "3         0   315154   NaN       0                 0                 NaN\n",
       "4         1  3101298   NaN       2                 2                 NaN"
      ]
     },
     "execution_count": 19,
     "metadata": {},
     "output_type": "execute_result"
    }
   ],
   "source": [
    "df.head()"
   ]
  },
  {
   "cell_type": "code",
   "execution_count": 20,
   "id": "98e2b652-392b-4b32-97ab-fac45c4d13a0",
   "metadata": {},
   "outputs": [
    {
     "data": {
      "text/plain": [
       "array([nan, 'B45', 'E31', 'B57 B59 B63 B66', 'B36', 'A21', 'C78', 'D34',\n",
       "       'D19', 'A9', 'D15', 'C31', 'C23 C25 C27', 'F G63', 'B61', 'C53',\n",
       "       'D43', 'C130', 'C132', 'C101', 'C55 C57', 'B71', 'C46', 'C116',\n",
       "       'F', 'A29', 'G6', 'C6', 'C28', 'C51', 'E46', 'C54', 'C97', 'D22',\n",
       "       'B10', 'F4', 'E45', 'E52', 'D30', 'B58 B60', 'E34', 'C62 C64',\n",
       "       'A11', 'B11', 'C80', 'F33', 'C85', 'D37', 'C86', 'D21', 'C89',\n",
       "       'F E46', 'A34', 'D', 'B26', 'C22 C26', 'B69', 'C32', 'B78',\n",
       "       'F E57', 'F2', 'A18', 'C106', 'B51 B53 B55', 'D10 D12', 'E60',\n",
       "       'E50', 'E39 E41', 'B52 B54 B56', 'C39', 'B24', 'D28', 'B41', 'C7',\n",
       "       'D40', 'D38', 'C105'], dtype=object)"
      ]
     },
     "execution_count": 20,
     "metadata": {},
     "output_type": "execute_result"
    }
   ],
   "source": [
    "df['Cabin'].unique()"
   ]
  },
  {
   "cell_type": "code",
   "execution_count": 21,
   "id": "0d6f6100-2bed-4fa2-9718-3501c8cbf5fb",
   "metadata": {},
   "outputs": [
    {
     "data": {
      "text/plain": [
       "array(['330911', '363272', '240276', '315154', '3101298', '7538',\n",
       "       '330972', '248738', '2657', 'A/4 48871', '349220', '694', '21228',\n",
       "       '24065', 'W.E.P. 5734', 'SC/PARIS 2167', '233734', '2692',\n",
       "       'STON/O2. 3101270', '2696', 'PC 17603', 'C 17368', 'PC 17598',\n",
       "       'PC 17597', 'PC 17608', 'A/5. 3337', '113509', '2698', '113054',\n",
       "       '2662', 'SC/AH 3085', 'C.A. 31029', 'C.A. 2315', 'W./C. 6607',\n",
       "       '13236', '2682', '342712', '315087', '345768', '1601', '349256',\n",
       "       '113778', 'SOTON/O.Q. 3101263', '237249', '11753',\n",
       "       'STON/O 2. 3101291', 'PC 17594', '370374', '11813', 'C.A. 37671',\n",
       "       '13695', 'SC/PARIS 2168', '29105', '19950', 'SC/A.3 2861',\n",
       "       '382652', '349230', '348122', '386525', '349232', '237216',\n",
       "       '347090', '334914', 'F.C.C. 13534', '330963', '113796', '2543',\n",
       "       '382653', '349211', '3101297', 'PC 17562', '113503', '359306',\n",
       "       '11770', '248744', '368702', '2678', 'PC 17483', '19924', '349238',\n",
       "       '240261', '2660', '330844', 'A/4 31416', '364856', '29103',\n",
       "       '347072', '345498', 'F.C. 12750', '376563', '13905', '350033',\n",
       "       '19877', 'STON/O 2. 3101268', '347471', 'A./5. 3338', '11778',\n",
       "       '228414', '365235', '347070', '2625', 'C 4001', '330920', '383162',\n",
       "       '3410', '248734', '237734', '330968', 'PC 17531', '329944', '2680',\n",
       "       '2681', 'PP 9549', '13050', 'SC/AH 29037', 'C.A. 33595', '367227',\n",
       "       '392095', '368783', '371362', '350045', '367226', '211535',\n",
       "       '342441', 'STON/OQ. 369943', '113780', '4133', '2621', '349226',\n",
       "       '350409', '2656', '248659', 'SOTON/OQ 392083', 'CA 2144', '113781',\n",
       "       '244358', '17475', '345763', '17463', 'SC/A4 23568', '113791',\n",
       "       '250651', '11767', '349255', '3701', '350405', '347077',\n",
       "       'S.O./P.P. 752', '347469', '110489', 'SOTON/O.Q. 3101315',\n",
       "       '335432', '2650', '220844', '343271', '237393', '315153',\n",
       "       'PC 17591', 'W./C. 6608', '17770', '7548', 'S.O./P.P. 251', '2670',\n",
       "       '2673', '29750', 'C.A. 33112', '230136', 'PC 17756', '233478',\n",
       "       '113773', '7935', 'PC 17558', '239059', 'S.O./P.P. 2', 'A/4 48873',\n",
       "       'CA. 2343', '28221', '226875', '111163', 'A/5. 851', '235509',\n",
       "       '28220', '347465', '16966', '347066', 'C.A. 31030', '65305',\n",
       "       '36568', '347080', 'PC 17757', '26360', 'C.A. 34050', 'F.C. 12998',\n",
       "       '9232', '28034', 'PC 17613', '349250', 'SOTON/O.Q. 3101308',\n",
       "       'S.O.C. 14879', '347091', '113038', '330924', '36928', '32302',\n",
       "       'SC/PARIS 2148', '342684', 'W./C. 14266', '350053', 'PC 17606',\n",
       "       '2661', '350054', '370368', 'C.A. 6212', '242963', '220845',\n",
       "       '113795', '3101266', '330971', 'PC 17599', '350416', '110813',\n",
       "       '2679', '250650', 'PC 17761', '112377', '237789', '3470', '17464',\n",
       "       '26707', 'C.A. 34651', 'SOTON/O2 3101284', '13508', '7266',\n",
       "       '345775', 'C.A. 42795', 'AQ/4 3130', '363611', '28404', '345501',\n",
       "       '345572', '350410', 'C.A. 34644', '349235', '112051', 'C.A. 49867',\n",
       "       'A. 2. 39186', '315095', '368573', '370371', '2676', '236853',\n",
       "       'SC 14888', '2926', 'CA 31352', 'W./C. 14260', '315085', '364859',\n",
       "       '370129', 'A/5 21175', 'SOTON/O.Q. 3101314', '2655', 'A/5 1478',\n",
       "       'PC 17607', '382650', '2652', '33638', '345771', '349202',\n",
       "       'SC/Paris 2123', '113801', '347467', '347079', '237735', '315092',\n",
       "       '383123', '112901', '392091', '12749', '350026', '315091', '2658',\n",
       "       'LP 1588', '368364', 'PC 17760', 'AQ/3. 30631', 'PC 17569',\n",
       "       '28004', '350408', '347075', '2654', '244368', '113790', '24160',\n",
       "       'SOTON/O.Q. 3101309', 'PC 17585', '2003', '236854', 'PC 17580',\n",
       "       '2684', '2653', '349229', '110469', '244360', '2675', '2622',\n",
       "       'C.A. 15185', '350403', 'PC 17755', '348125', '237670', '2688',\n",
       "       '248726', 'F.C.C. 13528', 'PC 17759', 'F.C.C. 13540', '113044',\n",
       "       '11769', '1222', '368402', '349910', 'S.C./PARIS 2079', '315083',\n",
       "       '11765', '2689', '3101295', '112378', 'SC/PARIS 2147', '28133',\n",
       "       '112058', '248746', '315152', '29107', '680', '366713', '330910',\n",
       "       '364498', '376566', 'SC/PARIS 2159', '349911', '244346', '364858',\n",
       "       '349909', 'PC 17592', 'C.A. 2673', 'C.A. 30769', '371109', '13567',\n",
       "       '347065', '21332', '28664', '113059', '17765', 'SC/PARIS 2166',\n",
       "       '28666', '334915', '365237', '19928', '347086', 'A.5. 3236',\n",
       "       'PC 17758', 'SOTON/O.Q. 3101262', '359309', '2668'], dtype=object)"
      ]
     },
     "execution_count": 21,
     "metadata": {},
     "output_type": "execute_result"
    }
   ],
   "source": [
    "/df['Ticket'].unique()"
   ]
  },
  {
   "cell_type": "code",
   "execution_count": 24,
   "id": "c6208820-c031-48e8-be9e-3a85865c4278",
   "metadata": {},
   "outputs": [
    {
     "name": "stderr",
     "output_type": "stream",
     "text": [
      "<>:1: SyntaxWarning: invalid escape sequence '\\d'\n",
      "<>:1: SyntaxWarning: invalid escape sequence '\\d'\n",
      "C:\\Users\\USER\\AppData\\Local\\Temp\\ipykernel_11044\\3089170357.py:1: SyntaxWarning: invalid escape sequence '\\d'\n",
      "  df['cabin_num'] = df['Cabin'].str.extract('(\\d+)')\n"
     ]
    },
    {
     "data": {
      "text/html": [
       "<div>\n",
       "<style scoped>\n",
       "    .dataframe tbody tr th:only-of-type {\n",
       "        vertical-align: middle;\n",
       "    }\n",
       "\n",
       "    .dataframe tbody tr th {\n",
       "        vertical-align: top;\n",
       "    }\n",
       "\n",
       "    .dataframe thead th {\n",
       "        text-align: right;\n",
       "    }\n",
       "</style>\n",
       "<table border=\"1\" class=\"dataframe\">\n",
       "  <thead>\n",
       "    <tr style=\"text-align: right;\">\n",
       "      <th></th>\n",
       "      <th>Survived</th>\n",
       "      <th>Ticket</th>\n",
       "      <th>Cabin</th>\n",
       "      <th>number</th>\n",
       "      <th>number_numerical</th>\n",
       "      <th>number_categorical</th>\n",
       "      <th>cabin_num</th>\n",
       "      <th>cabin_cat</th>\n",
       "    </tr>\n",
       "  </thead>\n",
       "  <tbody>\n",
       "    <tr>\n",
       "      <th>0</th>\n",
       "      <td>0</td>\n",
       "      <td>330911</td>\n",
       "      <td>NaN</td>\n",
       "      <td>0</td>\n",
       "      <td>0</td>\n",
       "      <td>NaN</td>\n",
       "      <td>NaN</td>\n",
       "      <td>NaN</td>\n",
       "    </tr>\n",
       "    <tr>\n",
       "      <th>1</th>\n",
       "      <td>1</td>\n",
       "      <td>363272</td>\n",
       "      <td>NaN</td>\n",
       "      <td>1</td>\n",
       "      <td>1</td>\n",
       "      <td>NaN</td>\n",
       "      <td>NaN</td>\n",
       "      <td>NaN</td>\n",
       "    </tr>\n",
       "    <tr>\n",
       "      <th>2</th>\n",
       "      <td>0</td>\n",
       "      <td>240276</td>\n",
       "      <td>NaN</td>\n",
       "      <td>0</td>\n",
       "      <td>0</td>\n",
       "      <td>NaN</td>\n",
       "      <td>NaN</td>\n",
       "      <td>NaN</td>\n",
       "    </tr>\n",
       "    <tr>\n",
       "      <th>3</th>\n",
       "      <td>0</td>\n",
       "      <td>315154</td>\n",
       "      <td>NaN</td>\n",
       "      <td>0</td>\n",
       "      <td>0</td>\n",
       "      <td>NaN</td>\n",
       "      <td>NaN</td>\n",
       "      <td>NaN</td>\n",
       "    </tr>\n",
       "    <tr>\n",
       "      <th>4</th>\n",
       "      <td>1</td>\n",
       "      <td>3101298</td>\n",
       "      <td>NaN</td>\n",
       "      <td>2</td>\n",
       "      <td>2</td>\n",
       "      <td>NaN</td>\n",
       "      <td>NaN</td>\n",
       "      <td>NaN</td>\n",
       "    </tr>\n",
       "  </tbody>\n",
       "</table>\n",
       "</div>"
      ],
      "text/plain": [
       "   Survived   Ticket Cabin  number  number_numerical  number_categorical  \\\n",
       "0         0   330911   NaN       0                 0                 NaN   \n",
       "1         1   363272   NaN       1                 1                 NaN   \n",
       "2         0   240276   NaN       0                 0                 NaN   \n",
       "3         0   315154   NaN       0                 0                 NaN   \n",
       "4         1  3101298   NaN       2                 2                 NaN   \n",
       "\n",
       "  cabin_num cabin_cat  \n",
       "0       NaN       NaN  \n",
       "1       NaN       NaN  \n",
       "2       NaN       NaN  \n",
       "3       NaN       NaN  \n",
       "4       NaN       NaN  "
      ]
     },
     "execution_count": 24,
     "metadata": {},
     "output_type": "execute_result"
    }
   ],
   "source": [
    "df['cabin_num'] = df['Cabin'].str.extract('(\\d+)')\n",
    "df['cabin_cat'] = df['Cabin'].str[0]\n",
    "\n",
    "df.head()"
   ]
  },
  {
   "cell_type": "code",
   "execution_count": 25,
   "id": "3ac79696-b722-40bc-a3aa-b32669509bea",
   "metadata": {},
   "outputs": [
    {
     "data": {
      "text/plain": [
       "cabin_cat\n",
       "C    35\n",
       "B    18\n",
       "D    13\n",
       "E     9\n",
       "F     8\n",
       "A     7\n",
       "G     1\n",
       "Name: count, dtype: int64"
      ]
     },
     "execution_count": 25,
     "metadata": {},
     "output_type": "execute_result"
    }
   ],
   "source": [
    "df['cabin_cat'].value_counts()"
   ]
  },
  {
   "cell_type": "code",
   "execution_count": 26,
   "id": "c3e53413-c41c-4dbe-a4b5-8d4b1b95e202",
   "metadata": {},
   "outputs": [],
   "source": [
    "# extract the last bit of ticket as number\n",
    "df['ticket_num'] = df['Ticket'].apply(lambda s:s.split()[-1])\n",
    "df['ticket_num'] = pd.to_numeric(df['ticket_num'],\n",
    "                                errors = 'coerce',\n",
    "                                downcast = 'integer')\n",
    "\n",
    "df['ticket_cat'] = df['Ticket'].apply(lambda s:s.split()[0])\n",
    "df['ticket_cat'] = np.where(df['ticket_cat'].str.isdigit(),np.nan,df['ticket_cat'])"
   ]
  },
  {
   "cell_type": "code",
   "execution_count": 27,
   "id": "91f9b027-a3b2-4b0d-94c5-3b31f833d8d9",
   "metadata": {},
   "outputs": [
    {
     "data": {
      "text/html": [
       "<div>\n",
       "<style scoped>\n",
       "    .dataframe tbody tr th:only-of-type {\n",
       "        vertical-align: middle;\n",
       "    }\n",
       "\n",
       "    .dataframe tbody tr th {\n",
       "        vertical-align: top;\n",
       "    }\n",
       "\n",
       "    .dataframe thead th {\n",
       "        text-align: right;\n",
       "    }\n",
       "</style>\n",
       "<table border=\"1\" class=\"dataframe\">\n",
       "  <thead>\n",
       "    <tr style=\"text-align: right;\">\n",
       "      <th></th>\n",
       "      <th>Survived</th>\n",
       "      <th>Ticket</th>\n",
       "      <th>Cabin</th>\n",
       "      <th>number</th>\n",
       "      <th>number_numerical</th>\n",
       "      <th>number_categorical</th>\n",
       "      <th>cabin_num</th>\n",
       "      <th>cabin_cat</th>\n",
       "      <th>ticket_num</th>\n",
       "      <th>ticket_cat</th>\n",
       "    </tr>\n",
       "  </thead>\n",
       "  <tbody>\n",
       "    <tr>\n",
       "      <th>0</th>\n",
       "      <td>0</td>\n",
       "      <td>330911</td>\n",
       "      <td>NaN</td>\n",
       "      <td>0</td>\n",
       "      <td>0</td>\n",
       "      <td>NaN</td>\n",
       "      <td>NaN</td>\n",
       "      <td>NaN</td>\n",
       "      <td>330911</td>\n",
       "      <td>NaN</td>\n",
       "    </tr>\n",
       "    <tr>\n",
       "      <th>1</th>\n",
       "      <td>1</td>\n",
       "      <td>363272</td>\n",
       "      <td>NaN</td>\n",
       "      <td>1</td>\n",
       "      <td>1</td>\n",
       "      <td>NaN</td>\n",
       "      <td>NaN</td>\n",
       "      <td>NaN</td>\n",
       "      <td>363272</td>\n",
       "      <td>NaN</td>\n",
       "    </tr>\n",
       "    <tr>\n",
       "      <th>2</th>\n",
       "      <td>0</td>\n",
       "      <td>240276</td>\n",
       "      <td>NaN</td>\n",
       "      <td>0</td>\n",
       "      <td>0</td>\n",
       "      <td>NaN</td>\n",
       "      <td>NaN</td>\n",
       "      <td>NaN</td>\n",
       "      <td>240276</td>\n",
       "      <td>NaN</td>\n",
       "    </tr>\n",
       "    <tr>\n",
       "      <th>3</th>\n",
       "      <td>0</td>\n",
       "      <td>315154</td>\n",
       "      <td>NaN</td>\n",
       "      <td>0</td>\n",
       "      <td>0</td>\n",
       "      <td>NaN</td>\n",
       "      <td>NaN</td>\n",
       "      <td>NaN</td>\n",
       "      <td>315154</td>\n",
       "      <td>NaN</td>\n",
       "    </tr>\n",
       "    <tr>\n",
       "      <th>4</th>\n",
       "      <td>1</td>\n",
       "      <td>3101298</td>\n",
       "      <td>NaN</td>\n",
       "      <td>2</td>\n",
       "      <td>2</td>\n",
       "      <td>NaN</td>\n",
       "      <td>NaN</td>\n",
       "      <td>NaN</td>\n",
       "      <td>3101298</td>\n",
       "      <td>NaN</td>\n",
       "    </tr>\n",
       "  </tbody>\n",
       "</table>\n",
       "</div>"
      ],
      "text/plain": [
       "   Survived   Ticket Cabin  number  number_numerical  number_categorical  \\\n",
       "0         0   330911   NaN       0                 0                 NaN   \n",
       "1         1   363272   NaN       1                 1                 NaN   \n",
       "2         0   240276   NaN       0                 0                 NaN   \n",
       "3         0   315154   NaN       0                 0                 NaN   \n",
       "4         1  3101298   NaN       2                 2                 NaN   \n",
       "\n",
       "  cabin_num cabin_cat  ticket_num ticket_cat  \n",
       "0       NaN       NaN      330911        NaN  \n",
       "1       NaN       NaN      363272        NaN  \n",
       "2       NaN       NaN      240276        NaN  \n",
       "3       NaN       NaN      315154        NaN  \n",
       "4       NaN       NaN     3101298        NaN  "
      ]
     },
     "execution_count": 27,
     "metadata": {},
     "output_type": "execute_result"
    }
   ],
   "source": [
    "df.head()"
   ]
  },
  {
   "cell_type": "code",
   "execution_count": null,
   "id": "f6aae711-ae53-40a7-8f59-117d7f6d6925",
   "metadata": {},
   "outputs": [],
   "source": []
  }
 ],
 "metadata": {
  "kernelspec": {
   "display_name": "Python 3 (ipykernel)",
   "language": "python",
   "name": "python3"
  },
  "language_info": {
   "codemirror_mode": {
    "name": "ipython",
    "version": 3
   },
   "file_extension": ".py",
   "mimetype": "text/x-python",
   "name": "python",
   "nbconvert_exporter": "python",
   "pygments_lexer": "ipython3",
   "version": "3.12.4"
  }
 },
 "nbformat": 4,
 "nbformat_minor": 5
}
