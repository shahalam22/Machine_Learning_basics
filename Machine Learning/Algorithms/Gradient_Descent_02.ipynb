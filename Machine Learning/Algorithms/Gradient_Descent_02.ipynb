{
 "cells": [
  {
   "cell_type": "markdown",
   "id": "244b055b-aef3-4540-90b5-f5023230dee3",
   "metadata": {},
   "source": [
    "## Gradient Discent for 2D data"
   ]
  },
  {
   "cell_type": "code",
   "execution_count": 33,
   "id": "e58c63ef-fb1d-41e2-aced-650357b998a3",
   "metadata": {},
   "outputs": [],
   "source": [
    "from sklearn.datasets import make_regression\n",
    "import matplotlib.pyplot as plt\n",
    "import numpy as np"
   ]
  },
  {
   "cell_type": "code",
   "execution_count": 34,
   "id": "c8ea4cc2-7d9b-4dad-978e-254b7baa0f19",
   "metadata": {},
   "outputs": [],
   "source": [
    "x,y = make_regression(n_samples=100,n_features=1,n_informative=1,n_targets=1,noise=20)"
   ]
  },
  {
   "cell_type": "code",
   "execution_count": 35,
   "id": "86550388-0f88-49b0-b2fc-e885353a7fd4",
   "metadata": {},
   "outputs": [
    {
     "data": {
      "text/plain": [
       "<matplotlib.collections.PathCollection at 0x242198ed7c0>"
      ]
     },
     "execution_count": 35,
     "metadata": {},
     "output_type": "execute_result"
    },
    {
     "data": {
      "image/png": "[encoded data removed]",
      "text/plain": [
       "<Figure size 640x480 with 1 Axes>"
      ]
     },
     "metadata": {},
     "output_type": "display_data"
    }
   ],
   "source": [
    "plt.scatter(x,y)"
   ]
  },
  {
   "cell_type": "code",
   "execution_count": 36,
   "id": "668c6842-af05-40b1-9161-1e4d955d3482",
   "metadata": {},
   "outputs": [],
   "source": [
    "from sklearn.linear_model import LinearRegression"
   ]
  },
  {
   "cell_type": "code",
   "execution_count": 37,
   "id": "5a6c1633-6c91-4f6b-ba01-64a9769284ee",
   "metadata": {},
   "outputs": [],
   "source": [
    "lr = LinearRegression()"
   ]
  },
  {
   "cell_type": "code",
   "execution_count": 38,
   "id": "c0c89b3d-0a44-4339-bc0d-35c89cb7f95d",
   "metadata": {},
   "outputs": [
    {
     "name": "stdout",
     "output_type": "stream",
     "text": [
      "[57.66770315]\n",
      "0.46312429670663713\n"
     ]
    }
   ],
   "source": [
    "lr.fit(x,y)\n",
    "print(lr.coef_)\n",
    "print(lr.intercept_)"
   ]
  },
  {
   "cell_type": "code",
   "execution_count": 43,
   "id": "91ec7e91-fffa-47ad-902f-aaec6043cb57",
   "metadata": {},
   "outputs": [],
   "source": [
    "m = 57.66"
   ]
  },
  {
   "cell_type": "code",
   "execution_count": 48,
   "id": "2e07e516-2b3d-43f8-bbb1-77ba57a8516f",
   "metadata": {},
   "outputs": [],
   "source": [
    "class GDRegressor:\n",
    "    def __init__(self,learning_rate,epochs):\n",
    "        self.m = 57.66\n",
    "        self.b = -120\n",
    "        self.lr = learning_rate\n",
    "        self.epochs = epochs\n",
    "\n",
    "    def fit(self,x,y):\n",
    "        for i in range(self.epochs):\n",
    "            loss_slope = -2 * np.sum(y - self.m*x.ravel() - self.b)\n",
    "            self.b = self.b - (self.lr*loss_slope)\n",
    "        print(self.b)\n",
    "        "
   ]
  },
  {
   "cell_type": "code",
   "execution_count": 49,
   "id": "f0f0b4c4-5509-401a-9621-d23db8d7d7bb",
   "metadata": {},
   "outputs": [],
   "source": [
    "gd = GDRegressor(0.001,100)"
   ]
  },
  {
   "cell_type": "code",
   "execution_count": 50,
   "id": "4ef55f4b-99e4-47af-8dd5-4c1f2f913b74",
   "metadata": {},
   "outputs": [
    {
     "name": "stdout",
     "output_type": "stream",
     "text": [
      "0.46267111442143927\n"
     ]
    }
   ],
   "source": [
    "gd.fit(x,y)"
   ]
  },
  {
   "cell_type": "code",
   "execution_count": null,
   "id": "31fcccd0-ab16-402d-bf2e-9cce1d5b62bc",
   "metadata": {},
   "outputs": [],
   "source": []
  }
 ],
 "metadata": {
  "kernelspec": {
   "display_name": "Python 3 (ipykernel)",
   "language": "python",
   "name": "python3"
  },
  "language_info": {
   "codemirror_mode": {
    "name": "ipython",
    "version": 3
   },
   "file_extension": ".py",
   "mimetype": "text/x-python",
   "name": "python",
   "nbconvert_exporter": "python",
   "pygments_lexer": "ipython3",
   "version": "3.12.4"
  }
 },
 "nbformat": 4,
 "nbformat_minor": 5
}
