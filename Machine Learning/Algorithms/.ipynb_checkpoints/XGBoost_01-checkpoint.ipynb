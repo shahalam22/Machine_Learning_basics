{
 "cells": [
  {
   "cell_type": "code",
   "execution_count": 3,
   "id": "7ecc7483-891d-4dce-9e53-af5ebc6abdbc",
   "metadata": {},
   "outputs": [],
   "source": [
    "from sklearn.datasets import make_classification\n",
    "from sklearn.model_selection import train_test_split\n",
    "from sklearn.metrics import accuracy_score\n",
    "from sklearn.ensemble import GradientBoostingClassifier\n",
    "import xgboost as xgb\n",
    "import time"
   ]
  },
  {
   "cell_type": "code",
   "execution_count": 9,
   "id": "252ef71e-7ef9-43ea-bb1e-c05c4031de8e",
   "metadata": {},
   "outputs": [],
   "source": [
    "# Creating a synthetic dataset\n",
    "x,y = make_classification(n_samples=10000,n_features=200,random_state=42)"
   ]
  },
  {
   "cell_type": "code",
   "execution_count": 10,
   "id": "11a03e78-07fb-4e7e-badf-c31bfeaf696e",
   "metadata": {},
   "outputs": [],
   "source": [
    "# Splitting the dataset into training and testing sets\n",
    "x_train, x_test, y_train, y_test = train_test_split(x,y,test_size=0.2,random_state=42)"
   ]
  },
  {
   "cell_type": "code",
   "execution_count": 11,
   "id": "49fc6513-8431-49ce-992d-fa6b2b8cecbb",
   "metadata": {},
   "outputs": [],
   "source": [
    "# Initializing Models\n",
    "gb_model = GradientBoostingClassifier(random_state=42)\n",
    "xgb_model = xgb.XGBClassifier(random_state=42,use_label_encoder=False,eval_metric='logloss')"
   ]
  },
  {
   "cell_type": "code",
   "execution_count": 13,
   "id": "add1e86e-b03a-469a-8453-d8d9a44c06d5",
   "metadata": {},
   "outputs": [
    {
     "name": "stderr",
     "output_type": "stream",
     "text": [
      "C:\\Users\\USER\\AppData\\Local\\Programs\\Python\\Python312\\Lib\\site-packages\\xgboost\\core.py:158: UserWarning: [13:00:35] WARNING: C:\\buildkite-agent\\builds\\buildkite-windows-cpu-autoscaling-group-i-0015a694724fa8361-1\\xgboost\\xgboost-ci-windows\\src\\learner.cc:740: \n",
      "Parameters: { \"use_label_encoder\" } are not used.\n",
      "\n",
      "  warnings.warn(smsg, UserWarning)\n"
     ]
    },
    {
     "data": {
      "text/plain": [
       "(118.34875726699829, 0.9325, 5.3373658657073975, 0.935)"
      ]
     },
     "execution_count": 13,
     "metadata": {},
     "output_type": "execute_result"
    }
   ],
   "source": [
    "# Training and evaluating the Scikit-Learn Gradient Boosting Model\n",
    "start_gb = time.time()\n",
    "gb_model.fit(x_train,y_train)\n",
    "end_gb = time.time()\n",
    "gb_time = end_gb - start_gb\n",
    "\n",
    "gb_predictions = gb_model.predict(x_test)\n",
    "gb_accuracy = accuracy_score(y_test,gb_predictions)\n",
    "\n",
    "# Training and evaluating the XGBoost Model\n",
    "start_xgb = time.time()\n",
    "xgb_model.fit(x_train,y_train)\n",
    "end_xgb = time.time()\n",
    "xgb_time = end_xgb - start_xgb\n",
    "\n",
    "xgb_predictions = xgb_model.predict(x_test)\n",
    "xgb_accuracy = accuracy_score(y_test,xgb_predictions)\n",
    "\n",
    "gb_time, gb_accuracy, xgb_time, xgb_accuracy"
   ]
  },
  {
   "cell_type": "code",
   "execution_count": 8,
   "id": "7e030f94-dd49-4fb9-ae82-54861d0ceb2e",
   "metadata": {},
   "outputs": [],
   "source": []
  }
 ],
 "metadata": {
  "kernelspec": {
   "display_name": "Python 3 (ipykernel)",
   "language": "python",
   "name": "python3"
  },
  "language_info": {
   "codemirror_mode": {
    "name": "ipython",
    "version": 3
   },
   "file_extension": ".py",
   "mimetype": "text/x-python",
   "name": "python",
   "nbconvert_exporter": "python",
   "pygments_lexer": "ipython3",
   "version": "3.12.4"
  }
 },
 "nbformat": 4,
 "nbformat_minor": 5
}
