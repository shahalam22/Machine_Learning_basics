{
 "cells": [
  {
   "cell_type": "markdown",
   "id": "f7035f20-c098-4514-9e1f-d3bd09263806",
   "metadata": {},
   "source": [
    "## KMeans code from scratch"
   ]
  },
  {
   "cell_type": "code",
   "execution_count": 1,
   "id": "0e1b0aae-3f0a-4c13-bb71-ce8eddaefa0d",
   "metadata": {},
   "outputs": [
    {
     "data": {
      "image/png": "[encoded data removed]",
      "text/plain": [
       "<Figure size 640x480 with 1 Axes>"
      ]
     },
     "metadata": {},
     "output_type": "display_data"
    }
   ],
   "source": [
    "from sklearn.datasets import make_blobs\n",
    "import matplotlib.pyplot as plt\n",
    "\n",
    "centroids = [(-5,-5),(5,5)]\n",
    "cluster_std = [1,1]\n",
    "\n",
    "x,y = make_blobs(n_samples=100,cluster_std=cluster_std,centers=centroids,n_features=2,random_state=2)\n",
    "\n",
    "plt.scatter(x[:,0],x[:,1])\n",
    "plt.show()"
   ]
  },
  {
   "cell_type": "code",
   "execution_count": 2,
   "id": "ef646e93-f395-4ad1-8bf4-5e53a2427d63",
   "metadata": {},
   "outputs": [],
   "source": [
    "# # algorithm of KMeans\n",
    "# 1. Decide clusters\n",
    "# 2. Select random centroids\n",
    "# 3. Assign clusters\n",
    "# 4. Move centroids\n",
    "# 5. Check finish"
   ]
  },
  {
   "cell_type": "code",
   "execution_count": 3,
   "id": "d758f943-3cc5-4430-bc3e-0cbf3f4c595c",
   "metadata": {},
   "outputs": [],
   "source": [
    "class KMeans:\n",
    "    def __init__(self,n_clusters=2,max_iter=100):\n",
    "        self.n_clusters = n_clusters\n",
    "        self.max_iter = max_iter\n",
    "        self.centroids = None\n",
    "\n",
    "    def fit_predict(self,x):\n",
    "        random_index = random.sample(range(0,x.shape[0]),self.n_clusters)\n",
    "        self.centroids = x[random_index]\n",
    "\n",
    "        for i in range(self.max_iter):\n",
    "            # assign cluster\n",
    "            cluster_group = self.assign_clusters(x)\n",
    "            old_centroids = self.centroids\n",
    "            # move centroids\n",
    "            self.centroids = self.move_centroids(x,cluster_group)\n",
    "            \n",
    "    \n",
    "    def assign_clusters(self,x):\n",
    "        cluster_group = []\n",
    "        distances = []\n",
    "\n",
    "        for row in x:\n",
    "            for centroids in self.centroids:\n",
    "                distances.append(np.sqrt(np.dot(row-centroid,row-centroid)))\n",
    "            min_distance = min(distances)\n",
    "            index_pos = distances.index(min_distance)\n",
    "            cluster_group.append(index_pos)\n",
    "            distances.clear()\n",
    "        return np.array(cluster_group)\n",
    "\n",
    "    def move_centroids(self,x,cluster_group):\n",
    "        new_centroids = []\n",
    "        cluster_type = np.unique(cluster_group)\n",
    "\n",
    "        for type in cluster_type:\n",
    "            new_centroids.append(x[cluster_group==type].mean(axis=0))\n",
    "\n",
    "        return np.array(new_centroids)"
   ]
  },
  {
   "cell_type": "code",
   "execution_count": null,
   "id": "8ad68c57-bf55-420d-8399-89197516bb51",
   "metadata": {},
   "outputs": [],
   "source": []
  }
 ],
 "metadata": {
  "kernelspec": {
   "display_name": "Python 3 (ipykernel)",
   "language": "python",
   "name": "python3"
  },
  "language_info": {
   "codemirror_mode": {
    "name": "ipython",
    "version": 3
   },
   "file_extension": ".py",
   "mimetype": "text/x-python",
   "name": "python",
   "nbconvert_exporter": "python",
   "pygments_lexer": "ipython3",
   "version": "3.12.4"
  }
 },
 "nbformat": 4,
 "nbformat_minor": 5
}
