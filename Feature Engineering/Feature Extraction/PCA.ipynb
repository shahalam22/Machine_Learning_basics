{
 "cells": [
  {
   "cell_type": "markdown",
   "id": "ac65bb04-3e18-49bb-8612-f5b7d5ee90ed",
   "metadata": {},
   "source": [
    "## Principle Component Analysis"
   ]
  },
  {
   "cell_type": "markdown",
   "id": "ab7942ae-4641-43ce-b92c-91a7e350db91",
   "metadata": {},
   "source": [
    "This is an unsupervised feature extraction technique. \n",
    "Main goal is to reduce curse of dimensionality\n",
    "\n",
    "Benefits : \n",
    "    1. Faster execution of algorithms\n",
    "    2. Visualization of data. We can't visualize more than 3D or 2D. So, we can reduce data into 3D or 2D for the visualization"
   ]
  }
 ],
 "metadata": {
  "kernelspec": {
   "display_name": "Python 3 (ipykernel)",
   "language": "python",
   "name": "python3"
  },
  "language_info": {
   "codemirror_mode": {
    "name": "ipython",
    "version": 3
   },
   "file_extension": ".py",
   "mimetype": "text/x-python",
   "name": "python",
   "nbconvert_exporter": "python",
   "pygments_lexer": "ipython3",
   "version": "3.12.4"
  }
 },
 "nbformat": 4,
 "nbformat_minor": 5
}
